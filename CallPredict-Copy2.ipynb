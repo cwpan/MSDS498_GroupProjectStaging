{
 "cells": [
  {
   "cell_type": "code",
   "execution_count": 1,
   "id": "5004f930-0802-48e5-886d-86fe6bd32f6f",
   "metadata": {},
   "outputs": [],
   "source": [
    "import boto3\n",
    "import numpy as np\n",
    "import pandas as pd\n",
    "from sklearn.model_selection import train_test_split\n",
    "import io"
   ]
  },
  {
   "cell_type": "code",
   "execution_count": 2,
   "id": "2bd80f71-4fa1-451c-ab42-8e06f35b1e31",
   "metadata": {},
   "outputs": [],
   "source": [
    "ACCESS_ID = ''\n",
    "ACCESS_KEY = ''"
   ]
  },
  {
   "cell_type": "code",
   "execution_count": 3,
   "id": "224c6a97-a4c6-42af-a2be-288dc06c3f31",
   "metadata": {},
   "outputs": [],
   "source": [
    "payload = '0,-0.34147611300851444,0.18202662446267728,310000.0,2.0,2.0,1.0,44.0,-1.0,-1.0,-2.0,-2.0,-2.0,-2.0,0.0,0.0,0.0,0.0,0.0,0.0,0.0,0.0,0.0,0.0'"
   ]
  },
  {
   "cell_type": "code",
   "execution_count": 4,
   "id": "5ff9011e-96d2-4517-96d7-2bdcdac29015",
   "metadata": {},
   "outputs": [],
   "source": [
    "cols = 'Label,PAY_AMT1,BILL_AMT1,LIMIT_BAL,SEX,EDUCATION,MARRIAGE,AGE,PAY_0,PAY_2,PAY_3,PAY_4,PAY_5,PAY_6,BILL_AMT2,BILL_AMT3,BILL_AMT4,BILL_AMT5,BILL_AMT6,PAY_AMT2,PAY_AMT3,PAY_AMT4,PAY_AMT5,PAY_AMT6'\n"
   ]
  },
  {
   "cell_type": "markdown",
   "id": "1cc96b1d-3c88-40d6-b6f9-704e36fdc3b0",
   "metadata": {},
   "source": [
    "### Code required to call sagemaker endpoint inline.  Requires authentication - Dont use"
   ]
  },
  {
   "cell_type": "code",
   "execution_count": 5,
   "id": "ddcb4cb6-6426-4b64-b9b3-196abbf80692",
   "metadata": {},
   "outputs": [],
   "source": [
    "client = boto3.client('sagemaker-runtime',region_name='us-east-2',aws_access_key_id=ACCESS_ID,\n",
    "         aws_secret_access_key= ACCESS_KEY)\n",
    "response = client.invoke_endpoint(\n",
    "    EndpointName = 'cc-training-job-1636206034',\n",
    "    Body=payload[2:],\n",
    "    ContentType='text/csv',\n",
    "    Accept=\"Accept\"\n",
    ")"
   ]
  },
  {
   "cell_type": "code",
   "execution_count": 6,
   "id": "de471757-91ae-45a8-8d8c-b8589d6166af",
   "metadata": {},
   "outputs": [],
   "source": [
    "predictions = response['Body'].read().decode('ascii')"
   ]
  },
  {
   "cell_type": "code",
   "execution_count": 7,
   "id": "a479afe2-dfd8-4ef8-9988-af03c0586f56",
   "metadata": {},
   "outputs": [
    {
     "data": {
      "text/plain": [
       "'0.2123846560716629'"
      ]
     },
     "execution_count": 7,
     "metadata": {},
     "output_type": "execute_result"
    }
   ],
   "source": [
    "predictions"
   ]
  },
  {
   "cell_type": "code",
   "execution_count": null,
   "id": "9d7fc3cf-03a5-45ff-b412-8481b5a12e69",
   "metadata": {},
   "outputs": [],
   "source": []
  },
  {
   "cell_type": "markdown",
   "id": "7bab5686-2764-41f2-90e5-690b3783c326",
   "metadata": {},
   "source": [
    "### Import this code below into flask app to call AWS API Gateway. "
   ]
  },
  {
   "cell_type": "code",
   "execution_count": 8,
   "id": "69b51fc1-fc7a-4270-b457-6d2bf935ca95",
   "metadata": {},
   "outputs": [
    {
     "name": "stdout",
     "output_type": "stream",
     "text": [
      "0.2123846560716629\n"
     ]
    }
   ],
   "source": [
    "import requests\n",
    "\n",
    "url = \"https://6l6l7n7vtb.execute-api.us-east-2.amazonaws.com/test/predict\"\n",
    "\n",
    "payload=\"{\\\"data\\\":\\\"0,-0.34147611300851444,0.18202662446267728,310000.0,2.0,2.0,1.0,44.0,-1.0,-1.0,-2.0,-2.0,-2.0,-2.0,0.0,0.0,0.0,0.0,0.0,0.0,0.0,0.0,0.0,0.0\\\"}\"\n",
    "headers = {\n",
    "  'Content-Type': 'application/json'\n",
    "}\n",
    "\n",
    "response = requests.request(\"POST\", url, headers=headers, data=payload)\n",
    "\n",
    "print(response.text)\n"
   ]
  },
  {
   "cell_type": "code",
   "execution_count": null,
   "id": "35b48790-8ff1-42a7-a2de-a9a4d9e51484",
   "metadata": {},
   "outputs": [],
   "source": []
  }
 ],
 "metadata": {
  "kernelspec": {
   "display_name": "Python 3.8.3 64-bit ('sb3': conda)",
   "language": "python",
   "name": "python38364bitsb3condab17dd73c54b64905a29cf20c40bb8a27"
  },
  "language_info": {
   "codemirror_mode": {
    "name": "ipython",
    "version": 3
   },
   "file_extension": ".py",
   "mimetype": "text/x-python",
   "name": "python",
   "nbconvert_exporter": "python",
   "pygments_lexer": "ipython3",
   "version": "3.8.3"
  }
 },
 "nbformat": 4,
 "nbformat_minor": 5
}
